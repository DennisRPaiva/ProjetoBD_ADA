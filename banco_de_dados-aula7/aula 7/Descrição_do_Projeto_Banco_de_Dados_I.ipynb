{
  "nbformat": 4,
  "nbformat_minor": 0,
  "metadata": {
    "colab": {
      "provenance": []
    },
    "kernelspec": {
      "name": "python3",
      "display_name": "Python 3"
    },
    "language_info": {
      "name": "python"
    }
  },
  "cells": [
    {
      "cell_type": "markdown",
      "source": [
        "## Projeto Banco de Dados I - Análise Exploratória de Dados\n",
        "\n",
        "O principal objetivo de uma análise exploratória de dados é o de encontrar informações relevantes. Ou seja, dizer se os dados podem retornar valor ou não para determinado segmento. \n",
        "<br>\n",
        "<br>\n",
        "É comum, antes de qualquer análise de dados, estabelecermos perguntas a serem respondidas através dos dados. Como por exemplo: Se temos dados que são referentes a transações de compra, é interessante se perguntar:\n",
        "\n",
        "- Qual seria o ticket médio destas transações?\n",
        "- Qual região tem maior número de transações?\n",
        "- Qual tipo de cartão tem mais transações rejeitadas?\n",
        "\n",
        "E assim por diante...\n",
        "<br>\n",
        "<br>\n",
        "Entretanto, não existe uma \"receita de bolo\" a seguir em uma análise de dados. Isso depende muito da experiência de cada envolvido nesse processo.\n",
        "<br>\n",
        "<br>\n",
        "Neste contexto, o seu desafio será o de, a partir da base de dados disponibilizada [aqui](https://github.com/joelsonSantos/banco_de_dados-aula7/tree/main/aula%207), descrever um processo de análise de dados com:\n",
        "\n",
        "1) 15 perguntas serem respondidas a partir dos dados;\n",
        "\n",
        "2) Desenvolva scripts de \"ingestão\" dos dados dos arquivos `produtos.csv` e `vendas.csv`), em tabelas do PostgreSQL com os respectivos nomes: produtos, vendas.\n",
        "  - **Observação 1**: Crie um banco de dados chamado ecommerce e crie as duas referidas tabelas com seus respectivos dados.\n",
        "  - **Observação 2**: Os scripts podem ser implementados em python ou puramente em SQL para realizar a ingestão dos dados nas tabelas.\n",
        "\n",
        "3) Escreva consultas em SQL para responder as perguntas levantadas no item 1.\n",
        "\n",
        "4) Para cada consulta criada, crie uma **view** no banco de dados para nomeá-la.\n",
        "\n",
        "5) Utilize as views construídas no item 4, e escreva um Jupyter Notebook para mostrar os insights coletados a partir dos dados.\n",
        "  - **Observação:** É permitido o uso de gráficos e técnicas estatísticas para apresentar os insights.\n",
        "\n",
        "\n",
        "\n",
        "\n",
        "\n",
        "\n",
        "\n",
        "\n"
      ],
      "metadata": {
        "id": "0Idi-5zhLoav"
      }
    },
    {
      "cell_type": "code",
      "execution_count": null,
      "metadata": {
        "id": "O3msXdKTLEOi"
      },
      "outputs": [],
      "source": []
    }
  ]
}